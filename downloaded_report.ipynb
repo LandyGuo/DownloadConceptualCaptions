{
 "cells": [
  {
   "cell_type": "code",
   "execution_count": 17,
   "metadata": {
    "ExecuteTime": {
     "end_time": "2019-01-23T22:09:00.140730Z",
     "start_time": "2019-01-23T22:09:00.125464Z"
    }
   },
   "outputs": [],
   "source": [
    "%matplotlib inline\n",
    "import matplotlib.pyplot as plt\n",
    "import matplotlib.ticker\n",
    "\n",
    "import numpy as np\n",
    "import pandas as pd\n",
    "import seaborn as sns\n",
    "import humanize\n",
    "from http import HTTPStatus\n",
    "# HTTP Status codes:\n",
    "def http_label(status):\n",
    "    # 451 is missing...\n",
    "    if status == 451:\n",
    "        return \"Unavailable_for_Legal_Reasons (451)\"\n",
    "    if status == 520 or status == 523:\n",
    "        return \"Unepected (520)\"\n",
    "    return \"%s (%s)\" % (str(HTTPStatus(status)).split('.')[1].title(), status)\n",
    "\n",
    "def filesize(size, pos):\n",
    "    return humanize.naturalsize(np.exp(size))"
   ]
  },
  {
   "cell_type": "markdown",
   "metadata": {},
   "source": [
    "# Validation set Images:"
   ]
  },
  {
   "cell_type": "code",
   "execution_count": 11,
   "metadata": {
    "ExecuteTime": {
     "end_time": "2019-01-23T22:02:50.787711Z",
     "start_time": "2019-01-23T22:02:50.646938Z"
    }
   },
   "outputs": [
    {
     "data": {
      "text/html": [
       "<div>\n",
       "<style scoped>\n",
       "    .dataframe tbody tr th:only-of-type {\n",
       "        vertical-align: middle;\n",
       "    }\n",
       "\n",
       "    .dataframe tbody tr th {\n",
       "        vertical-align: top;\n",
       "    }\n",
       "\n",
       "    .dataframe thead th {\n",
       "        text-align: right;\n",
       "    }\n",
       "</style>\n",
       "<table border=\"1\" class=\"dataframe\">\n",
       "  <thead>\n",
       "    <tr style=\"text-align: right;\">\n",
       "      <th></th>\n",
       "      <th>url</th>\n",
       "      <th>folder</th>\n",
       "      <th>status</th>\n",
       "      <th>mimetype</th>\n",
       "      <th>size</th>\n",
       "      <th>file</th>\n",
       "      <th>headers</th>\n",
       "    </tr>\n",
       "  </thead>\n",
       "  <tbody>\n",
       "    <tr>\n",
       "      <th>8747</th>\n",
       "      <td>http://cdn3.creativecirclemedia.com/rhodybeat/...</td>\n",
       "      <td>validation</td>\n",
       "      <td>200</td>\n",
       "      <td>image/jpeg</td>\n",
       "      <td>1427169.0</td>\n",
       "      <td>validation/1903725124</td>\n",
       "      <td>{'Date': 'Wed, 23 Jan 2019 21:52:57 GMT', 'Ser...</td>\n",
       "    </tr>\n",
       "    <tr>\n",
       "      <th>14853</th>\n",
       "      <td>http://l7.alamy.com/zooms/20aa0087d6b44b4a9960...</td>\n",
       "      <td>validation</td>\n",
       "      <td>200</td>\n",
       "      <td>image/jpeg</td>\n",
       "      <td>171046.0</td>\n",
       "      <td>validation/2799776854</td>\n",
       "      <td>{'access-control-allow-origin': '*', 'cache-co...</td>\n",
       "    </tr>\n",
       "    <tr>\n",
       "      <th>5785</th>\n",
       "      <td>https://static1.squarespace.com/static/542d78f...</td>\n",
       "      <td>validation</td>\n",
       "      <td>200</td>\n",
       "      <td>image/jpeg</td>\n",
       "      <td>91384.0</td>\n",
       "      <td>validation/2370121806</td>\n",
       "      <td>{'X-ServedBy': 'cdn028', 'Timing-Allow-Origin'...</td>\n",
       "    </tr>\n",
       "    <tr>\n",
       "      <th>208</th>\n",
       "      <td>https://i.pinimg.com/736x/fe/52/a3/fe52a3c3acd...</td>\n",
       "      <td>validation</td>\n",
       "      <td>200</td>\n",
       "      <td>image/jpeg</td>\n",
       "      <td>39820.0</td>\n",
       "      <td>validation/1144640680</td>\n",
       "      <td>{'ETag': '\"43a78f3b45a0ab3d185a31a90edf1672\"',...</td>\n",
       "    </tr>\n",
       "    <tr>\n",
       "      <th>946</th>\n",
       "      <td>http://l7.alamy.com/zooms/c7efd9213c354558bc94...</td>\n",
       "      <td>validation</td>\n",
       "      <td>200</td>\n",
       "      <td>image/jpeg</td>\n",
       "      <td>126338.0</td>\n",
       "      <td>validation/201175022</td>\n",
       "      <td>{'access-control-allow-origin': '*', 'cache-co...</td>\n",
       "    </tr>\n",
       "    <tr>\n",
       "      <th>6595</th>\n",
       "      <td>https://i.pinimg.com/736x/fb/11/15/fb1115a5019...</td>\n",
       "      <td>validation</td>\n",
       "      <td>200</td>\n",
       "      <td>image/jpeg</td>\n",
       "      <td>369681.0</td>\n",
       "      <td>validation/2516586865</td>\n",
       "      <td>{'ETag': '\"86a3b5d8d64dd93612e84c3a15bb499f\"',...</td>\n",
       "    </tr>\n",
       "    <tr>\n",
       "      <th>5589</th>\n",
       "      <td>http://i.dailymail.co.uk/i/pix/2012/08/09/arti...</td>\n",
       "      <td>validation</td>\n",
       "      <td>200</td>\n",
       "      <td>image/jpeg</td>\n",
       "      <td>149063.0</td>\n",
       "      <td>validation/1063005072</td>\n",
       "      <td>{'Server': 'Apache', 'ETag': '\"d498595befbe6a8...</td>\n",
       "    </tr>\n",
       "    <tr>\n",
       "      <th>11799</th>\n",
       "      <td>https://triciaannemitchell.files.wordpress.com...</td>\n",
       "      <td>validation</td>\n",
       "      <td>200</td>\n",
       "      <td>image/jpeg</td>\n",
       "      <td>57199.0</td>\n",
       "      <td>validation/1393368654</td>\n",
       "      <td>{'Server': 'nginx', 'Date': 'Wed, 23 Jan 2019 ...</td>\n",
       "    </tr>\n",
       "    <tr>\n",
       "      <th>242</th>\n",
       "      <td>http://cdn3.theinertia.com/wp-content/gallery/...</td>\n",
       "      <td>validation</td>\n",
       "      <td>200</td>\n",
       "      <td>image/jpeg</td>\n",
       "      <td>92317.0</td>\n",
       "      <td>validation/2123666558</td>\n",
       "      <td>{'Date': 'Wed, 23 Jan 2019 21:51:21 GMT', 'Con...</td>\n",
       "    </tr>\n",
       "    <tr>\n",
       "      <th>739</th>\n",
       "      <td>https://i.pinimg.com/736x/66/53/e7/6653e792359...</td>\n",
       "      <td>validation</td>\n",
       "      <td>200</td>\n",
       "      <td>image/jpeg</td>\n",
       "      <td>90451.0</td>\n",
       "      <td>validation/715087014</td>\n",
       "      <td>{'ETag': '\"027718b5b6230eceff4bb299df84d783\"',...</td>\n",
       "    </tr>\n",
       "  </tbody>\n",
       "</table>\n",
       "</div>"
      ],
      "text/plain": [
       "                                                     url      folder  status  \\\n",
       "8747   http://cdn3.creativecirclemedia.com/rhodybeat/...  validation     200   \n",
       "14853  http://l7.alamy.com/zooms/20aa0087d6b44b4a9960...  validation     200   \n",
       "5785   https://static1.squarespace.com/static/542d78f...  validation     200   \n",
       "208    https://i.pinimg.com/736x/fe/52/a3/fe52a3c3acd...  validation     200   \n",
       "946    http://l7.alamy.com/zooms/c7efd9213c354558bc94...  validation     200   \n",
       "6595   https://i.pinimg.com/736x/fb/11/15/fb1115a5019...  validation     200   \n",
       "5589   http://i.dailymail.co.uk/i/pix/2012/08/09/arti...  validation     200   \n",
       "11799  https://triciaannemitchell.files.wordpress.com...  validation     200   \n",
       "242    http://cdn3.theinertia.com/wp-content/gallery/...  validation     200   \n",
       "739    https://i.pinimg.com/736x/66/53/e7/6653e792359...  validation     200   \n",
       "\n",
       "         mimetype       size                   file  \\\n",
       "8747   image/jpeg  1427169.0  validation/1903725124   \n",
       "14853  image/jpeg   171046.0  validation/2799776854   \n",
       "5785   image/jpeg    91384.0  validation/2370121806   \n",
       "208    image/jpeg    39820.0  validation/1144640680   \n",
       "946    image/jpeg   126338.0   validation/201175022   \n",
       "6595   image/jpeg   369681.0  validation/2516586865   \n",
       "5589   image/jpeg   149063.0  validation/1063005072   \n",
       "11799  image/jpeg    57199.0  validation/1393368654   \n",
       "242    image/jpeg    92317.0  validation/2123666558   \n",
       "739    image/jpeg    90451.0   validation/715087014   \n",
       "\n",
       "                                                 headers  \n",
       "8747   {'Date': 'Wed, 23 Jan 2019 21:52:57 GMT', 'Ser...  \n",
       "14853  {'access-control-allow-origin': '*', 'cache-co...  \n",
       "5785   {'X-ServedBy': 'cdn028', 'Timing-Allow-Origin'...  \n",
       "208    {'ETag': '\"43a78f3b45a0ab3d185a31a90edf1672\"',...  \n",
       "946    {'access-control-allow-origin': '*', 'cache-co...  \n",
       "6595   {'ETag': '\"86a3b5d8d64dd93612e84c3a15bb499f\"',...  \n",
       "5589   {'Server': 'Apache', 'ETag': '\"d498595befbe6a8...  \n",
       "11799  {'Server': 'nginx', 'Date': 'Wed, 23 Jan 2019 ...  \n",
       "242    {'Date': 'Wed, 23 Jan 2019 21:51:21 GMT', 'Con...  \n",
       "739    {'ETag': '\"027718b5b6230eceff4bb299df84d783\"',...  "
      ]
     },
     "execution_count": 11,
     "metadata": {},
     "output_type": "execute_result"
    }
   ],
   "source": [
    "df = pd.read_csv('downloaded_validation_report.tsv.gz', compression='gzip', sep='\\t', names=[\"url\",\"folder\",\"status\",\"mimetype\",\"size\",\"file\",\"headers\"])\n",
    "df.sample(10)"
   ]
  },
  {
   "cell_type": "code",
   "execution_count": 12,
   "metadata": {
    "ExecuteTime": {
     "end_time": "2019-01-23T22:02:51.943562Z",
     "start_time": "2019-01-23T22:02:51.934823Z"
    }
   },
   "outputs": [
    {
     "data": {
      "text/html": [
       "<div>\n",
       "<style scoped>\n",
       "    .dataframe tbody tr th:only-of-type {\n",
       "        vertical-align: middle;\n",
       "    }\n",
       "\n",
       "    .dataframe tbody tr th {\n",
       "        vertical-align: top;\n",
       "    }\n",
       "\n",
       "    .dataframe thead th {\n",
       "        text-align: right;\n",
       "    }\n",
       "</style>\n",
       "<table border=\"1\" class=\"dataframe\">\n",
       "  <thead>\n",
       "    <tr style=\"text-align: right;\">\n",
       "      <th></th>\n",
       "      <th>mimetype</th>\n",
       "      <th>url</th>\n",
       "    </tr>\n",
       "  </thead>\n",
       "  <tbody>\n",
       "    <tr>\n",
       "      <th>1</th>\n",
       "      <td>image/jpeg</td>\n",
       "      <td>14736</td>\n",
       "    </tr>\n",
       "    <tr>\n",
       "      <th>4</th>\n",
       "      <td>text/html</td>\n",
       "      <td>51</td>\n",
       "    </tr>\n",
       "    <tr>\n",
       "      <th>2</th>\n",
       "      <td>image/png</td>\n",
       "      <td>6</td>\n",
       "    </tr>\n",
       "    <tr>\n",
       "      <th>0</th>\n",
       "      <td>image/gif</td>\n",
       "      <td>3</td>\n",
       "    </tr>\n",
       "    <tr>\n",
       "      <th>6</th>\n",
       "      <td>text/x-php</td>\n",
       "      <td>3</td>\n",
       "    </tr>\n",
       "    <tr>\n",
       "      <th>3</th>\n",
       "      <td>inode/x-empty</td>\n",
       "      <td>2</td>\n",
       "    </tr>\n",
       "    <tr>\n",
       "      <th>5</th>\n",
       "      <td>text/plain</td>\n",
       "      <td>1</td>\n",
       "    </tr>\n",
       "  </tbody>\n",
       "</table>\n",
       "</div>"
      ],
      "text/plain": [
       "        mimetype    url\n",
       "1     image/jpeg  14736\n",
       "4      text/html     51\n",
       "2      image/png      6\n",
       "0      image/gif      3\n",
       "6     text/x-php      3\n",
       "3  inode/x-empty      2\n",
       "5     text/plain      1"
      ]
     },
     "execution_count": 12,
     "metadata": {},
     "output_type": "execute_result"
    }
   ],
   "source": [
    "pd.DataFrame(df.groupby('mimetype')['url'].count()).reset_index(level=0).sort_values(by='url', ascending=False)"
   ]
  },
  {
   "cell_type": "code",
   "execution_count": 14,
   "metadata": {
    "ExecuteTime": {
     "end_time": "2019-01-23T22:03:45.854432Z",
     "start_time": "2019-01-23T22:03:45.681402Z"
    }
   },
   "outputs": [
    {
     "data": {
      "text/html": [
       "<div>\n",
       "<style scoped>\n",
       "    .dataframe tbody tr th:only-of-type {\n",
       "        vertical-align: middle;\n",
       "    }\n",
       "\n",
       "    .dataframe tbody tr th {\n",
       "        vertical-align: top;\n",
       "    }\n",
       "\n",
       "    .dataframe thead th {\n",
       "        text-align: right;\n",
       "    }\n",
       "</style>\n",
       "<table border=\"1\" class=\"dataframe\">\n",
       "  <thead>\n",
       "    <tr style=\"text-align: right;\">\n",
       "      <th></th>\n",
       "      <th>url</th>\n",
       "    </tr>\n",
       "    <tr>\n",
       "      <th>status</th>\n",
       "      <th></th>\n",
       "    </tr>\n",
       "  </thead>\n",
       "  <tbody>\n",
       "    <tr>\n",
       "      <th>Not_Found (404)</th>\n",
       "      <td>329</td>\n",
       "    </tr>\n",
       "    <tr>\n",
       "      <th>Request_Timeout (408)</th>\n",
       "      <td>289</td>\n",
       "    </tr>\n",
       "    <tr>\n",
       "      <th>Forbidden (403)</th>\n",
       "      <td>257</td>\n",
       "    </tr>\n",
       "    <tr>\n",
       "      <th>Method_Not_Allowed (405)</th>\n",
       "      <td>113</td>\n",
       "    </tr>\n",
       "    <tr>\n",
       "      <th>Service_Unavailable (503)</th>\n",
       "      <td>16</td>\n",
       "    </tr>\n",
       "    <tr>\n",
       "      <th>Bad_Request (400)</th>\n",
       "      <td>14</td>\n",
       "    </tr>\n",
       "    <tr>\n",
       "      <th>Internal_Server_Error (500)</th>\n",
       "      <td>6</td>\n",
       "    </tr>\n",
       "    <tr>\n",
       "      <th>Gone (410)</th>\n",
       "      <td>5</td>\n",
       "    </tr>\n",
       "    <tr>\n",
       "      <th>Unepected (520)</th>\n",
       "      <td>4</td>\n",
       "    </tr>\n",
       "    <tr>\n",
       "      <th>No_Content (204)</th>\n",
       "      <td>2</td>\n",
       "    </tr>\n",
       "    <tr>\n",
       "      <th>Unauthorized (401)</th>\n",
       "      <td>1</td>\n",
       "    </tr>\n",
       "    <tr>\n",
       "      <th>Bad_Gateway (502)</th>\n",
       "      <td>1</td>\n",
       "    </tr>\n",
       "    <tr>\n",
       "      <th>Unepected (520)</th>\n",
       "      <td>1</td>\n",
       "    </tr>\n",
       "  </tbody>\n",
       "</table>\n",
       "</div>"
      ],
      "text/plain": [
       "                             url\n",
       "status                          \n",
       "Not_Found (404)              329\n",
       "Request_Timeout (408)        289\n",
       "Forbidden (403)              257\n",
       "Method_Not_Allowed (405)     113\n",
       "Service_Unavailable (503)     16\n",
       "Bad_Request (400)             14\n",
       "Internal_Server_Error (500)    6\n",
       "Gone (410)                     5\n",
       "Unepected (520)                4\n",
       "No_Content (204)               2\n",
       "Unauthorized (401)             1\n",
       "Bad_Gateway (502)              1\n",
       "Unepected (520)                1"
      ]
     },
     "execution_count": 14,
     "metadata": {},
     "output_type": "execute_result"
    },
    {
     "data": {
      "image/png": "[encoded data removed]",
      "text/plain": [
       "<matplotlib.figure.Figure at 0x7fc716ee4710>"
      ]
     },
     "metadata": {},
     "output_type": "display_data"
    }
   ],
   "source": [
    "by_status = df[df['status']!=200][['status','url']]\n",
    "by_status = by_status.groupby('status').count()\n",
    "by_status = pd.DataFrame(by_status).reset_index(level=0)\n",
    "by_status['status'] = by_status['status'].apply(lambda x: http_label(x))\n",
    "by_status.set_index(\"status\",drop=True,inplace=True)\n",
    "by_status.sort_values(by='url').plot.barh()\n",
    "by_status.sort_values(by='url',ascending=False)"
   ]
  },
  {
   "cell_type": "code",
   "execution_count": 15,
   "metadata": {
    "ExecuteTime": {
     "end_time": "2019-01-23T22:03:57.687450Z",
     "start_time": "2019-01-23T22:03:57.534306Z"
    }
   },
   "outputs": [
    {
     "name": "stdout",
     "output_type": "stream",
     "text": [
      "14745 images\n"
     ]
    },
    {
     "data": {
      "image/png": "[encoded data removed]",
      "text/plain": [
       "<matplotlib.figure.Figure at 0x7fc7155bdda0>"
      ]
     },
     "metadata": {},
     "output_type": "display_data"
    }
   ],
   "source": [
    "# File Sizes:\n",
    "file_sizes = np.log(df[(df['size']> 0) & (df['mimetype'].str.contains('image'))]['size'].dropna())\n",
    "print(len(file_sizes), 'images')\n",
    "\n",
    "formatter = matplotlib.ticker.FuncFormatter(filesize)\n",
    "plt.figure(figsize=(14,8))\n",
    "ax = sns.violinplot(x=file_sizes, orient='v', inner='quartile', bw=0.01, palette='Set2')\n",
    "ax.yaxis.set_major_formatter(formatter)\n",
    "ax.yaxis.set_major_locator(matplotlib.ticker.MultipleLocator(1))\n",
    "plt.show()"
   ]
  },
  {
   "cell_type": "markdown",
   "metadata": {},
   "source": [
    "# Training set images"
   ]
  },
  {
   "cell_type": "code",
   "execution_count": null,
   "metadata": {},
   "outputs": [],
   "source": [
    "df = pd.read_csv('downloaded_training_report.tsv.gz', compression='gzip', sep='\\t', names=[\"url\",\"folder\",\"status\",\"mimetype\",\"size\",\"file\",\"headers\"])\n",
    "df.sample(10)"
   ]
  },
  {
   "cell_type": "code",
   "execution_count": null,
   "metadata": {},
   "outputs": [],
   "source": [
    "pd.DataFrame(df.groupby('mimetype')['url'].count()).reset_index(level=0).sort_values(by='url', ascending=False)"
   ]
  },
  {
   "cell_type": "code",
   "execution_count": null,
   "metadata": {},
   "outputs": [],
   "source": [
    "by_status = df[df['status']!=200][['status','url']]\n",
    "by_status = by_status.groupby('status').count()\n",
    "by_status = pd.DataFrame(by_status).reset_index(level=0)\n",
    "by_status['status'] = by_status['status'].apply(lambda x: http_label(x))\n",
    "by_status.set_index(\"status\",drop=True,inplace=True)\n",
    "by_status.sort_values(by='url').plot.barh()\n",
    "by_status.sort_values(by='url',ascending=False)"
   ]
  },
  {
   "cell_type": "code",
   "execution_count": null,
   "metadata": {},
   "outputs": [],
   "source": [
    "# File Sizes:\n",
    "file_sizes = np.log(df[(df['size']> 0) & (df['mimetype'].str.contains('image'))]['size'].dropna())\n",
    "print(len(file_sizes), 'images')\n",
    "\n",
    "formatter = matplotlib.ticker.FuncFormatter(filesize)\n",
    "plt.figure(figsize=(14,8))\n",
    "ax = sns.violinplot(x=file_sizes, orient='v', inner='quartile', bw=0.01, palette='Set2')\n",
    "ax.yaxis.set_major_formatter(formatter)\n",
    "ax.yaxis.set_major_locator(matplotlib.ticker.MultipleLocator(1))\n",
    "plt.show()"
   ]
  }
 ],
 "metadata": {
  "kernelspec": {
   "display_name": "Python 3",
   "language": "python",
   "name": "python3"
  },
  "language_info": {
   "codemirror_mode": {
    "name": "ipython",
    "version": 3
   },
   "file_extension": ".py",
   "mimetype": "text/x-python",
   "name": "python",
   "nbconvert_exporter": "python",
   "pygments_lexer": "ipython3",
   "version": "3.6.4"
  },
  "varInspector": {
   "cols": {
    "lenName": 16,
    "lenType": 16,
    "lenVar": 40
   },
   "kernels_config": {
    "python": {
     "delete_cmd_postfix": "",
     "delete_cmd_prefix": "del ",
     "library": "var_list.py",
     "varRefreshCmd": "print(var_dic_list())"
    },
    "r": {
     "delete_cmd_postfix": ") ",
     "delete_cmd_prefix": "rm(",
     "library": "var_list.r",
     "varRefreshCmd": "cat(var_dic_list()) "
    }
   },
   "types_to_exclude": [
    "module",
    "function",
    "builtin_function_or_method",
    "instance",
    "_Feature"
   ],
   "window_display": false
  }
 },
 "nbformat": 4,
 "nbformat_minor": 2
}
